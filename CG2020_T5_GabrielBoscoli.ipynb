{
 "cells": [
  {
   "cell_type": "code",
   "execution_count": 2,
   "metadata": {},
   "outputs": [],
   "source": [
    "import numpy as np\n",
    "from my_alg_lib import *\n",
    "import math\n",
    "import sys"
   ]
  },
  {
   "cell_type": "code",
   "execution_count": 1,
   "metadata": {},
   "outputs": [
    {
     "ename": "ModuleNotFoundError",
     "evalue": "No module named 'vector'",
     "output_type": "error",
     "traceback": [
      "\u001b[1;31m---------------------------------------------------------------------------\u001b[0m",
      "\u001b[1;31mModuleNotFoundError\u001b[0m                       Traceback (most recent call last)",
      "\u001b[1;32m<ipython-input-1-1591a3bb09f9>\u001b[0m in \u001b[0;36m<module>\u001b[1;34m\u001b[0m\n\u001b[1;32m----> 1\u001b[1;33m \u001b[1;32mfrom\u001b[0m \u001b[0mvector\u001b[0m \u001b[1;32mimport\u001b[0m \u001b[1;33m*\u001b[0m\u001b[1;33m\u001b[0m\u001b[0m\n\u001b[0m",
      "\u001b[1;31mModuleNotFoundError\u001b[0m: No module named 'vector'"
     ]
    }
   ],
   "source": [
    "class Camera:\n",
    "    def __init__(self, w, h, fovy, f):\n",
    "        self.w = w\n",
    "        self.h = h\n",
    "        self.fov = fovy\n",
    "        self.f = f\n",
    "        self.a = 2 * f * math.tan(np.pi * fovy/360)\n",
    "        self.b = w * self.a / h\n",
    "        self.xe = novo(1,0,0)\n",
    "        self.ye = novo(0,1,0)\n",
    "        self.ze = novo(0,0,1)\n",
    "    \n",
    "    def posicao(self, eye, center, up):\n",
    "        self.ze = unitario(centerer-eye)\n",
    "        self.xe = unitario(np.cross(self.ze, up))\n",
    "        self.ye = np.cross(self.ze, self.xe)\n",
    "    \n",
    "    def direcao(self, x, y):\n",
    "        return self.f * self.ze + self.a * (y/self.h - 0.5) * self.ye + self.b * (x / self.w - 0.5) * self.xe\n",
    "    \n",
    "    def origem(self):\n",
    "        return self.eye"
   ]
  },
  {
   "cell_type": "code",
   "execution_count": null,
   "metadata": {},
   "outputs": [],
   "source": [
    "class Esfera(Objeto):\n",
    "    def __init__(self, centro, raio, material):\n",
    "        self.centro = centro\n",
    "        self.raio = raio\n",
    "        self.material = material\n",
    "        \n",
    "    def intercepta(self, origem, direcao):\n",
    "        a = np.sum(np.square(direcao))\n",
    "        b = 2 * np.dot(direcao, origem-centro)\n",
    "        c = np.dot(origem-centro, origem-centro) - raio * raio\n",
    "        delta = b * b - 4 * a * c\n",
    "        if delta >= epsilon:\n",
    "            sqrt_delta = math.sqrt(delta)\n",
    "            t1 = (-b - sqrt_delta) / (2 * a)\n",
    "            t2 = (-b + sqrt_delta) / (2 * a)\n",
    "            ti = min(t1, t2)\n",
    "        else:\n",
    "            ti = -1\n",
    "        return ti\n",
    "    \n",
    "    def normal(self, ponto):\n",
    "        normal = unitario(ponto - self.centro)\n",
    "        return normal\n",
    "    \n",
    "    def cor(self, ponto):\n",
    "        # coeficiente difuso\n",
    "        # coeficiente especular\n",
    "        # coeficiente que leva o cosseno\n",
    "        return kd, ks, ns"
   ]
  },
  {
   "cell_type": "code",
   "execution_count": null,
   "metadata": {},
   "outputs": [],
   "source": [
    "class Poliedro_Convexo(Objeto):\n",
    "    def __init__(self, pontos, normais, material):\n",
    "        self.pontos = pontos\n",
    "        self.normais = normais\n",
    "        self.material = material\n",
    "        self.np = self.normais.shape[0]\n",
    "        \n",
    "    def intercepta(self, origem, direcao):\n",
    "        po = self.pontos - origem\n",
    "        numerador = np.array(self.np, dtype = np.float)\n",
    "        denominador = np.array(self.np, dtype = np.float)\n",
    "        for i in range(self.normais.shape[0]):\n",
    "            numerador[i] = np.dot(self.normais[i], po[i])\n",
    "            denominador[i] = np.dot(self.normais[i], direcao)\n",
    "        return -1\n",
    "    \n",
    "    def mostra(self):\n",
    "        for i in range(pontos.shape[0]):\n",
    "            print(\"ponto = \" + str(pontos[i] + \"normail = \" + str(normais[i])))"
   ]
  }
 ],
 "metadata": {
  "kernelspec": {
   "display_name": "Python 3",
   "language": "python",
   "name": "python3"
  },
  "language_info": {
   "codemirror_mode": {
    "name": "ipython",
    "version": 3
   },
   "file_extension": ".py",
   "mimetype": "text/x-python",
   "name": "python",
   "nbconvert_exporter": "python",
   "pygments_lexer": "ipython3",
   "version": "3.6.5"
  },
  "toc": {
   "base_numbering": 1,
   "nav_menu": {},
   "number_sections": true,
   "sideBar": true,
   "skip_h1_title": false,
   "title_cell": "Table of Contents",
   "title_sidebar": "Contents",
   "toc_cell": false,
   "toc_position": {},
   "toc_section_display": true,
   "toc_window_display": false
  },
  "varInspector": {
   "cols": {
    "lenName": 16,
    "lenType": 16,
    "lenVar": 40
   },
   "kernels_config": {
    "python": {
     "delete_cmd_postfix": "",
     "delete_cmd_prefix": "del ",
     "library": "var_list.py",
     "varRefreshCmd": "print(var_dic_list())"
    },
    "r": {
     "delete_cmd_postfix": ") ",
     "delete_cmd_prefix": "rm(",
     "library": "var_list.r",
     "varRefreshCmd": "cat(var_dic_list()) "
    }
   },
   "types_to_exclude": [
    "module",
    "function",
    "builtin_function_or_method",
    "instance",
    "_Feature"
   ],
   "window_display": false
  }
 },
 "nbformat": 4,
 "nbformat_minor": 4
}
