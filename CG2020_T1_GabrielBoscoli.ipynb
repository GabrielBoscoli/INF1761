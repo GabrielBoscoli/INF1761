{
 "cells": [
  {
   "cell_type": "markdown",
   "metadata": {},
   "source": [
    "<b>PARA QUE AS VARIÁVEIS SEJAM DEVIDAMENTE INICIALIZADAS E OS RESULTADOS CORRETAMENTE EXIBIDOS, RODE TODAS AS CELLS EM:<br> CELL -> RUN ALL<b>"
   ]
  },
  {
   "cell_type": "code",
   "execution_count": 44,
   "metadata": {},
   "outputs": [],
   "source": [
    "from ipycanvas import Canvas, hold_canvas\n",
    "import pandas as pd\n",
    "import numpy as np"
   ]
  },
  {
   "cell_type": "code",
   "execution_count": 45,
   "metadata": {},
   "outputs": [],
   "source": [
    "path = \"\"\n",
    "my_name = \"CG2020_T1_GabrielBoscoli\""
   ]
  },
  {
   "cell_type": "code",
   "execution_count": 46,
   "metadata": {},
   "outputs": [],
   "source": [
    "cie_table = pd.read_excel(path + 'all_1nm_data.xls', header=3)"
   ]
  },
  {
   "cell_type": "code",
   "execution_count": 47,
   "metadata": {},
   "outputs": [],
   "source": [
    "# Le as colunas em listas\n",
    "lambda_ = cie_table['nm']\n",
    "Lw = cie_table['CIE D65']\n",
    "x_ = cie_table['x bar']\n",
    "y_ = cie_table['y bar']\n",
    "z_ = cie_table['z bar']\n",
    "\n",
    "lambda_ = np.asarray(lambda_[80:481])\n",
    "Lw = np.asarray(Lw[80:481])\n",
    "x_ = np.asarray(x_[80:481])\n",
    "y_ = np.asarray(y_[80:481])\n",
    "z_ = np.asarray(z_[80:481])\n",
    "\n",
    "Lw = Lw / np.amax(Lw)"
   ]
  },
  {
   "cell_type": "code",
   "execution_count": 48,
   "metadata": {},
   "outputs": [],
   "source": [
    "checker = pd.read_excel(path + 'ColorChecker_RGB_and_spectra.xls',\n",
    "                        'spectral_data',\n",
    "                        skiprows=1,\n",
    "                        nrows=24)\n",
    "reflectance = checker.loc[:, checker.columns[2:]].to_numpy(dtype=np.float32)\n",
    "colors = checker['Color name']"
   ]
  },
  {
   "cell_type": "code",
   "execution_count": 49,
   "metadata": {},
   "outputs": [],
   "source": [
    "Lw_ = Lw[(lambda_ > 379) & (lambda_ < 731) & (lambda_ % 10 == 0)]\n",
    "xbar = x_[(lambda_ > 379) & (lambda_ < 731) & (lambda_ % 10 == 0)]\n",
    "ybar = y_[(lambda_ > 379) & (lambda_ < 731) & (lambda_ % 10 == 0)]\n",
    "zbar = z_[(lambda_ > 379) & (lambda_ < 731) & (lambda_ % 10 == 0)]"
   ]
  },
  {
   "cell_type": "code",
   "execution_count": 50,
   "metadata": {},
   "outputs": [],
   "source": [
    "def print_colors_code(colorsCode):\n",
    "    for i in range(len(colorsCode)):\n",
    "        print(f'{colors[i]} -> ({colorsCode[i][0]}, {colorsCode[i][1]}, {colorsCode[i][2]})')"
   ]
  },
  {
   "cell_type": "code",
   "execution_count": 51,
   "metadata": {},
   "outputs": [
    {
     "name": "stdout",
     "output_type": "stream",
     "text": [
      "dark skin -> (0.11113817162661657, 0.10032432852432753, 0.06713859773589231)\n",
      "light skin -> (0.3730351931222515, 0.34720840720495194, 0.25399301119894574)\n",
      "blue sky -> (0.1768360771622641, 0.18877469174506856, 0.3470212026518497)\n",
      "foliage -> (0.10534128950735919, 0.13295357932346522, 0.06977566291411123)\n",
      "blue flower -> (0.2486386280855693, 0.23494163275289445, 0.44183395071423764)\n",
      "bluish green -> (0.30991693155277367, 0.4267889967641575, 0.4499488492879537)\n",
      "orange -> (0.3696832295997508, 0.2956037417870296, 0.062353869788027094)\n",
      "purplish blue -> (0.1348799873882133, 0.11766618725675312, 0.38533097159670654)\n",
      "moderate red -> (0.27759634037669717, 0.18798375999626069, 0.13624753068864773)\n",
      "purple -> (0.0834891193313974, 0.06322822676043566, 0.1402977429413308)\n",
      "yellow green -> (0.3364506796971514, 0.44260124471664886, 0.11314971633597846)\n",
      "orange yellow -> (0.4526036985488901, 0.4209649924440995, 0.07821637195843865)\n",
      "blue -> (0.07961298282093976, 0.06021575145123009, 0.2832056903908718)\n",
      "green -> (0.14531478385946592, 0.23340115418058674, 0.09790130095183859)\n",
      "red -> (0.1960952748682509, 0.11609789425385367, 0.0498403741012541)\n",
      "yellow -> (0.5596791571116927, 0.5934155286924921, 0.09266338776382421)\n",
      "magenta -> (0.2931339953476485, 0.19164771962661808, 0.3097868077491462)\n",
      "cyan -> (0.1453027244827566, 0.19807076924482572, 0.39212115179182705)\n",
      "white 9.5 (.05 D) -> (0.8593171417775769, 0.9090492103049096, 0.9525958982143096)\n",
      "neutral 8 (.23 D) -> (0.5535217804941476, 0.5851413536019021, 0.6335220503494107)\n",
      "neutral 6.5 (.44 D) -> (0.33825796427028476, 0.3572131968628584, 0.3888839834228787)\n",
      "neutral 5 (.70 D) -> (0.18066934107391897, 0.19137115902491197, 0.2093901656783816)\n",
      "neutral 3.5 (1.05 D) -> (0.08383871951853561, 0.08873698536334874, 0.09799072256516761)\n",
      "black 2 (1.5 D) -> (0.030159959372695673, 0.03169740705271828, 0.035228744340050876)\n"
     ]
    }
   ],
   "source": [
    "k = 1.0 / (10 * np.sum(Lw_ * ybar))\n",
    "\n",
    "XYZ = np.zeros(shape=(colors.size, 3))\n",
    "for i, cor in enumerate(colors):\n",
    "    betha = reflectance[i, :]\n",
    "    XYZ[i, 0] = 10 * k * np.sum(Lw_ * betha * xbar)\n",
    "    XYZ[i, 1] = 10 * k * np.sum(Lw_ * betha * ybar)\n",
    "    XYZ[i, 2] = 10 * k * np.sum(Lw_ * betha * zbar)\n",
    "    \n",
    "print_colors_code(XYZ)"
   ]
  },
  {
   "cell_type": "code",
   "execution_count": 52,
   "metadata": {},
   "outputs": [],
   "source": [
    "def gamma(val):\n",
    "    if (val < 0):\n",
    "        return 0\n",
    "    elif (val < 0.0031308):\n",
    "        return 12.92 * val\n",
    "    else:\n",
    "        return 1.055 * val**(1.0 / 2.4) - 0.055\n",
    "\n",
    "\n",
    "def CIEXYZ_to_sRGB(XYZ):\n",
    "    Minv = np.array([[3.2404542, -1.5371385, -0.4985314],\n",
    "                     [-0.9692660, 1.8760108, 0.0415560],\n",
    "                     [0.0556434, -0.2040259, 1.0572252]])\n",
    "    rgb = np.dot(Minv, XYZ)\n",
    "    sRGB = [gamma(i) for i in rgb]\n",
    "    return sRGB"
   ]
  },
  {
   "cell_type": "code",
   "execution_count": 53,
   "metadata": {
    "code_folding": []
   },
   "outputs": [
    {
     "name": "stdout",
     "output_type": "stream",
     "text": [
      "dark skin -> (115, 81, 67)\n",
      "light skin -> (195, 149, 129)\n",
      "blue sky -> (93, 123, 157)\n",
      "foliage -> (90, 108, 65)\n",
      "blue flower -> (130, 129, 176)\n",
      "bluish green -> (99, 191, 171)\n",
      "orange -> (220, 123, 45)\n",
      "purplish blue -> (72, 92, 168)\n",
      "moderate red -> (195, 84, 98)\n",
      "purple -> (90, 59, 105)\n",
      "yellow green -> (160, 189, 62)\n",
      "orange yellow -> (229, 161, 41)\n",
      "blue -> (43, 62, 147)\n",
      "green -> (71, 149, 72)\n",
      "red -> (176, 48, 56)\n",
      "yellow -> (238, 200, 22)\n",
      "magenta -> (188, 84, 150)\n",
      "cyan -> (0, 136, 166)\n",
      "white 9.5 (.05 D) -> (245, 245, 240)\n",
      "neutral 8 (.23 D) -> (200, 202, 201)\n",
      "neutral 6.5 (.44 D) -> (160, 161, 161)\n",
      "neutral 5 (.70 D) -> (120, 121, 121)\n",
      "neutral 3.5 (1.05 D) -> (83, 84, 85)\n",
      "black 2 (1.5 D) -> (50, 50, 50)\n"
     ]
    }
   ],
   "source": [
    "sRGB = np.zeros(shape=(colors.size, 3))\n",
    "for i in range(colors.size):\n",
    "    sRGB[i] = CIEXYZ_to_sRGB([XYZ[i][0], XYZ[i][1], XYZ[i][2]])\n",
    "    sRGB[i] = [round(i * 255) for i in sRGB[i]]\n",
    "\n",
    "sRGB = sRGB.astype(int)\n",
    "np.save(\"resp/\" + my_name + \".npy\", sRGB)\n",
    "print_colors_code(sRGB)"
   ]
  },
  {
   "cell_type": "code",
   "execution_count": 54,
   "metadata": {},
   "outputs": [],
   "source": [
    "def round_rect(canvas, x, y, w, h, r):\n",
    "    canvas.fill_style = \"black\"\n",
    "    canvas.begin_path()\n",
    "    r = min(r, w / 2, h / 2)\n",
    "    canvas.move_to(x + r, y)\n",
    "    canvas.arc_to(x + w, y, x + w, y + h, r)\n",
    "    canvas.arc_to(x + w, y + h, x, y + h, r)\n",
    "    canvas.arc_to(x, y + h, x, y, r)\n",
    "    canvas.arc_to(x, y, x + w, y, r)\n",
    "    canvas.close_path()\n",
    "    canvas.fill()"
   ]
  },
  {
   "cell_type": "code",
   "execution_count": 55,
   "metadata": {},
   "outputs": [],
   "source": [
    "w = 710\n",
    "h = 510\n",
    "canvas = Canvas(width=w, height=h, sync_image_data=True)"
   ]
  },
  {
   "cell_type": "code",
   "execution_count": 56,
   "metadata": {},
   "outputs": [],
   "source": [
    "def save_to_file(*args, **kwargs):\n",
    "    canvas.save()\n",
    "    canvas.to_file(\"resp/\" + my_name + \".png\")"
   ]
  },
  {
   "cell_type": "code",
   "execution_count": 57,
   "metadata": {},
   "outputs": [
    {
     "data": {
      "application/vnd.jupyter.widget-view+json": {
       "model_id": "45a15573b09442638d5df7c1df5f6078",
       "version_major": 2,
       "version_minor": 0
      },
      "text/plain": [
       "Canvas(height=510, sync_image_data=True, width=710)"
      ]
     },
     "metadata": {},
     "output_type": "display_data"
    }
   ],
   "source": [
    "border_pad = 30\n",
    "square_side = 100\n",
    "pad_between_quares = 10\n",
    "square_columns = 6\n",
    "square_lines = 4\n",
    "name_pad = 50\n",
    "name = \"Gabriel Boscoli\"\n",
    "\n",
    "canvas.observe(save_to_file, 'image_data')\n",
    "\n",
    "round_rect(canvas, 0, 0, w, h, 20)\n",
    "canvas.fill_style = 'white'\n",
    "\n",
    "x = border_pad\n",
    "y = border_pad\n",
    "sRGB_index = 0\n",
    "for i in range(square_lines):\n",
    "    for j in range(square_columns):\n",
    "        color = f'rgb({sRGB[sRGB_index][0]},{sRGB[sRGB_index][1]},{sRGB[sRGB_index][2]})'\n",
    "        canvas.fill_style = color\n",
    "        canvas.fill_rect(x, y, square_side, square_side)\n",
    "        x += square_side + pad_between_quares\n",
    "        sRGB_index += 1\n",
    "    y += square_side + pad_between_quares\n",
    "    x = border_pad\n",
    "\n",
    "canvas.font = '30px serif'\n",
    "canvas.text_align = \"center\"\n",
    "canvas.text_baseline = \"middle\"\n",
    "canvas.fill_style = \"white\"\n",
    "canvas.fill_text(name, w / 2, h - (name_pad / 2))\n",
    "canvas"
   ]
  }
 ],
 "metadata": {
  "kernelspec": {
   "display_name": "Python 3",
   "language": "python",
   "name": "python3"
  },
  "language_info": {
   "codemirror_mode": {
    "name": "ipython",
    "version": 3
   },
   "file_extension": ".py",
   "mimetype": "text/x-python",
   "name": "python",
   "nbconvert_exporter": "python",
   "pygments_lexer": "ipython3",
   "version": "3.6.5"
  },
  "toc": {
   "base_numbering": 1,
   "nav_menu": {},
   "number_sections": true,
   "sideBar": true,
   "skip_h1_title": false,
   "title_cell": "Table of Contents",
   "title_sidebar": "Contents",
   "toc_cell": false,
   "toc_position": {},
   "toc_section_display": true,
   "toc_window_display": false
  },
  "varInspector": {
   "cols": {
    "lenName": 16,
    "lenType": 16,
    "lenVar": 40
   },
   "kernels_config": {
    "python": {
     "delete_cmd_postfix": "",
     "delete_cmd_prefix": "del ",
     "library": "var_list.py",
     "varRefreshCmd": "print(var_dic_list())"
    },
    "r": {
     "delete_cmd_postfix": ") ",
     "delete_cmd_prefix": "rm(",
     "library": "var_list.r",
     "varRefreshCmd": "cat(var_dic_list()) "
    }
   },
   "types_to_exclude": [
    "module",
    "function",
    "builtin_function_or_method",
    "instance",
    "_Feature"
   ],
   "window_display": false
  }
 },
 "nbformat": 4,
 "nbformat_minor": 2
}
