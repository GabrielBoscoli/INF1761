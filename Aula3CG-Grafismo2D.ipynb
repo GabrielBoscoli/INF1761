{
 "cells": [
  {
   "cell_type": "code",
   "execution_count": 1,
   "metadata": {
    "ExecuteTime": {
     "end_time": "2020-08-31T12:48:23.380916Z",
     "start_time": "2020-08-31T12:48:23.344221Z"
    }
   },
   "outputs": [],
   "source": [
    "from ipycanvas import Canvas, hold_canvas"
   ]
  },
  {
   "cell_type": "code",
   "execution_count": 2,
   "metadata": {
    "ExecuteTime": {
     "end_time": "2020-08-31T12:48:24.883183Z",
     "start_time": "2020-08-31T12:48:24.875911Z"
    }
   },
   "outputs": [],
   "source": [
    "def round_rect(canvas, x,y, w,h, r):\n",
    "    canvas.begin_path()\n",
    "    r = min(r,w/2,h/2)\n",
    "    canvas.move_to(x+r,y)\n",
    "    canvas.arc_to(x+w, y,   x+w, y+h, r)\n",
    "    canvas.arc_to(x+w, y+h, x,   y+h, r)\n",
    "    canvas.arc_to(x,   y+h, x,   y,   r)\n",
    "    canvas.arc_to(x,   y,   x+w, y,   r)\n",
    "    canvas.close_path()  \n",
    "\n",
    "def save_to_file(canvas,fname):\n",
    "    canvas.to_file(fname)\n"
   ]
  },
  {
   "cell_type": "code",
   "execution_count": 3,
   "metadata": {
    "ExecuteTime": {
     "end_time": "2020-08-31T12:48:25.813963Z",
     "start_time": "2020-08-31T12:48:25.797977Z"
    }
   },
   "outputs": [
    {
     "data": {
      "application/vnd.jupyter.widget-view+json": {
       "model_id": "34aef9fd5a244b22a036e7f9c5f9f7c7",
       "version_major": 2,
       "version_minor": 0
      },
      "text/plain": [
       "Canvas(height=400, sync_image_data=True, width=600)"
      ]
     },
     "metadata": {},
     "output_type": "display_data"
    }
   ],
   "source": [
    "w=600\n",
    "h=400\n",
    "canvas = Canvas(width=w,height=h,sync_image_data=True)\n",
    "canvas.fill_rect(0,0,w,h)\n",
    "canvas.fill_style = 'green'\n",
    "canvas.fill_rect(10,10,60,60)\n",
    "canvas.fill_style='rgb(0,0,255)'\n",
    "canvas.fill_rect(300,300,200,80)\n",
    "canvas.fill_style = 'white'\n",
    "canvas.stroke_style='red'\n",
    "round_rect(canvas,100,100,140,120,120)\n",
    "canvas.fill()\n",
    "canvas.stroke()\n",
    "canvas.font = '30px serif'\n",
    "canvas.fill_text('Manuela Silva', 180, 32)\n",
    "canvas"
   ]
  },
  {
   "cell_type": "code",
   "execution_count": 4,
   "metadata": {
    "ExecuteTime": {
     "end_time": "2020-08-31T12:47:33.918434Z",
     "start_time": "2020-08-31T12:47:33.913692Z"
    }
   },
   "outputs": [],
   "source": [
    "save_to_file(canvas,'funcSave.png')\n",
    "canvas.to_file('to_file.png')"
   ]
  },
  {
   "cell_type": "code",
   "execution_count": null,
   "metadata": {},
   "outputs": [],
   "source": []
  }
 ],
 "metadata": {
  "kernelspec": {
   "display_name": "Python 3",
   "language": "python",
   "name": "python3"
  },
  "language_info": {
   "codemirror_mode": {
    "name": "ipython",
    "version": 3
   },
   "file_extension": ".py",
   "mimetype": "text/x-python",
   "name": "python",
   "nbconvert_exporter": "python",
   "pygments_lexer": "ipython3",
   "version": "3.6.5"
  },
  "latex_envs": {
   "LaTeX_envs_menu_present": true,
   "autoclose": true,
   "autocomplete": true,
   "bibliofile": "biblio.bib",
   "cite_by": "apalike",
   "current_citInitial": 1,
   "eqLabelWithNumbers": true,
   "eqNumInitial": 1,
   "hotkeys": {
    "equation": "Ctrl-E",
    "itemize": "Ctrl-I"
   },
   "labels_anchors": false,
   "latex_user_defs": false,
   "report_style_numbering": false,
   "user_envs_cfg": false
  },
  "toc": {
   "base_numbering": 1,
   "nav_menu": {},
   "number_sections": true,
   "sideBar": true,
   "skip_h1_title": false,
   "title_cell": "Table of Contents",
   "title_sidebar": "Contents",
   "toc_cell": false,
   "toc_position": {},
   "toc_section_display": true,
   "toc_window_display": false
  },
  "varInspector": {
   "cols": {
    "lenName": 16,
    "lenType": 16,
    "lenVar": 40
   },
   "kernels_config": {
    "python": {
     "delete_cmd_postfix": "",
     "delete_cmd_prefix": "del ",
     "library": "var_list.py",
     "varRefreshCmd": "print(var_dic_list())"
    },
    "r": {
     "delete_cmd_postfix": ") ",
     "delete_cmd_prefix": "rm(",
     "library": "var_list.r",
     "varRefreshCmd": "cat(var_dic_list()) "
    }
   },
   "types_to_exclude": [
    "module",
    "function",
    "builtin_function_or_method",
    "instance",
    "_Feature"
   ],
   "window_display": false
  }
 },
 "nbformat": 4,
 "nbformat_minor": 4
}
