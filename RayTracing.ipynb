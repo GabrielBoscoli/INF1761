{
 "cells": [
  {
   "cell_type": "code",
   "execution_count": 1,
   "metadata": {},
   "outputs": [],
   "source": [
    "import numpy as np\n",
    "import matplotlib.pyplot as plt\n",
    "import matplotlib.image as mpimg\n",
    "from my_alg_lib import *\n",
    "import math\n",
    "import sys\n",
    "import itertools\n",
    "\n",
    "#https://medium.com/swlh/ray-tracing-from-scratch-in-python-41670e6a96f9"
   ]
  },
  {
   "cell_type": "code",
   "execution_count": 2,
   "metadata": {},
   "outputs": [],
   "source": [
    "epsilon = sys.float_info.epsilon"
   ]
  },
  {
   "cell_type": "code",
   "execution_count": 3,
   "metadata": {},
   "outputs": [],
   "source": [
    "# funcao utilitaria que normaliza o vetor\n",
    "def normalize(vector):\n",
    "    return vector / np.linalg.norm(vector)"
   ]
  },
  {
   "cell_type": "code",
   "execution_count": 4,
   "metadata": {},
   "outputs": [],
   "source": [
    "class Camera:\n",
    "    def __init__(self, w, h, fovy, f):\n",
    "        self.w = w\n",
    "        self.h = h\n",
    "        self.fov = fovy\n",
    "        self.f = f\n",
    "        self.a = 2 * f * math.tan(np.pi * fovy / 360.)\n",
    "        self.b = w * self.a / h\n",
    "        # camera na posicao canonica\n",
    "        self.xe = novo(1,0,0)\n",
    "        self.ye = novo(0,1,0)\n",
    "        self.ze = novo(0,0,1)\n",
    "    \n",
    "    # muda posicao da camera\n",
    "    def posicao(self, eye, center, up):\n",
    "        self.ze = normalize(center - eye)\n",
    "        self.xe = normalize(np.cross(self.ze, up))\n",
    "        self.ye = np.cross(self.ze, self.xe)\n",
    "        self.eye = eye\n",
    "    \n",
    "    def direcao(self, x, y):\n",
    "        return self.f * self.ze + self.a * (y / self.h - 0.5) * self.ye + self.b * (x / self.w - 0.5) * self.xe\n",
    "    \n",
    "    def origem(self):\n",
    "        return self.eye"
   ]
  },
  {
   "cell_type": "code",
   "execution_count": 5,
   "metadata": {},
   "outputs": [],
   "source": [
    "class Objeto():\n",
    "    # deve retornar a distancia t do ponto de interseção\n",
    "    # caso o objeto nao foi interceptado pelo raio, retorna None\n",
    "    def intercepta(self, origem, direcao):\n",
    "        raise NotImplementedError\n",
    "        \n",
    "    # retorna a normal\n",
    "    def normal(self, ponto):\n",
    "        raise NotImplementedError\n",
    "        \n",
    "    # realiza o mapeamento para textura\n",
    "    def mapear(self, ponto):\n",
    "        raise NotImplementedError"
   ]
  },
  {
   "cell_type": "code",
   "execution_count": 6,
   "metadata": {},
   "outputs": [],
   "source": [
    "class Esfera(Objeto):\n",
    "    def __init__(self, centro, raio, material):\n",
    "        self.centro = centro\n",
    "        self.raio = raio\n",
    "        self.material = material\n",
    "        self.ambient = np.array([0.1, 0, 0])\n",
    "        self.diffuse = np.array([0.7, 0, 0])\n",
    "        self.shininess = 100\n",
    "        self.specular = np.array([1, 1, 1])\n",
    "        \n",
    "    def intercepta(self, origem, direcao):\n",
    "        a = np.sum(np.square(direcao))\n",
    "        b = 2 * np.dot(direcao, origem - self.centro)\n",
    "        c = np.dot(origem - self.centro, origem - self.centro) - self.raio * self.raio\n",
    "        delta = b * b - 4 * a * c\n",
    "        tmin = None\n",
    "        #if delta >= epsilon:\n",
    "        if delta >= 0:\n",
    "            t = min((- b - math.sqrt(delta)) / (2 * a), (- b + math.sqrt(delta)) / (2 * a))\n",
    "            if t > 1:\n",
    "                tmin = t\n",
    "        return tmin\n",
    "    \n",
    "    def normal(self, ponto):\n",
    "        return normalize(ponto - self.centro)\n",
    "    \n",
    "    def mapear(self, ponto):\n",
    "        ponto = normalize(ponto - self.centro)\n",
    "        u = 0.5 - np.arcsin(ponto[1]) / np.pi\n",
    "        v = 0.5 + np.arctan2(ponto[0], ponto[2]) / (2 * np.pi)\n",
    "        return u, v"
   ]
  },
  {
   "cell_type": "code",
   "execution_count": 7,
   "metadata": {},
   "outputs": [],
   "source": [
    "class Poliedro_Convexo(Objeto):\n",
    "    def __init__(self, pontos, normais, material):\n",
    "        self.pontos = pontos\n",
    "        self.normais = normais\n",
    "        self.material = material\n",
    "        self.planos = self.normais.shape[0]\n",
    "        \n",
    "    def __str__(self):\n",
    "        return sel.z\n",
    "        \n",
    "    def intercepta(self, origem, direcao):\n",
    "        vectors = [point - origem for point in self.pontos]\n",
    "\n",
    "        t = -np.inf\n",
    "        t_out = np.inf\n",
    "        surface_normal = None\n",
    "\n",
    "        for i, p in enumerate(vectors):\n",
    "            n = self.normais[i]\n",
    "            dn = np.dot(direcao, n)\n",
    "            if dn == 0:\n",
    "                continue\n",
    "\n",
    "            tp = np.dot(p, n) / dn\n",
    "            if dn < 0:\n",
    "                if tp > t:\n",
    "                    t = tp\n",
    "                    surface_normal = n\n",
    "            else:\n",
    "                if tp < t_out:\n",
    "                    t_out = tp\n",
    "    \n",
    "            if t_out < t:\n",
    "                return None\n",
    "\n",
    "        if t <= 1:\n",
    "            return None\n",
    "        \n",
    "        return t\n",
    "    \n",
    "    def normal(self, ponto):\n",
    "        dist = np.inf\n",
    "        tolerancia = 1e-12\n",
    "        normal = None\n",
    "        for i in range(self.planos):\n",
    "            if (abs(np.dot(ponto - self.pontos[i], self.normais[i])) < tolerancia):\n",
    "                return self.normais[i]\n",
    "        return normal\n",
    "    \n",
    "    # realiza o mapeamento para textura do poliedro convexo\n",
    "    def mapear(self, ponto):\n",
    "        raise NotImplementedError"
   ]
  },
  {
   "cell_type": "code",
   "execution_count": 8,
   "metadata": {},
   "outputs": [],
   "source": [
    "class Material():\n",
    "    def __init__(self, difusa, especular, ambiente, reflexao, brilho, path_textura=None):\n",
    "        self.difusa = difusa\n",
    "        self.especular = especular\n",
    "        self.reflexao = reflexao\n",
    "        self.brilho = brilho\n",
    "        self.ambiente = ambiente\n",
    "        if path_textura:\n",
    "            self.textura = mpimg.imread(path_textura)\n",
    "            self.tem_textura = True\n",
    "        else:\n",
    "            self.textura = None\n",
    "            self.tem_textura = False\n",
    "        \n",
    "    def mapeia_textura(self, u, v):\n",
    "        if not self.tem_textura:\n",
    "            return None\n",
    "        w, h, c = self.textura.shape\n",
    "        x = int(u * w) % w\n",
    "        y = int((1 - v) * h) % h\n",
    "        return novo(self.textura[x, y, 0]/255, self.textura[x, y, 1]/255, self.textura[x, y, 2]/255)"
   ]
  },
  {
   "cell_type": "code",
   "execution_count": 9,
   "metadata": {},
   "outputs": [],
   "source": [
    "class Luz():\n",
    "    def __init__(self, posicao, ambiente, difusa, especular):\n",
    "        self.posicao = posicao\n",
    "        self.ambiente = ambiente\n",
    "        self.difusa = difusa\n",
    "        self.especular = especular\n",
    "        \n",
    "    def calcula_difusa(self, kd, l, n):\n",
    "        return np.array(kd * (max(np.dot(l, n), 0)) * self.difusa, dtype=np.float)\n",
    "    \n",
    "    def calcula_especular(self, ks, r, v, alfa):\n",
    "        return np.array(ks * (max(np.dot(r, v), 0) ** alfa) * self.especular, dtype=np.float)\n",
    "    \n",
    "    def calcula_ambiente(self, ka):\n",
    "        return np.array(self.ambiente * ka, dtype=np.float)\n",
    "    \n",
    "    def calcula_difusa_especular(self, kd, l, n, ks, r, v, alfa):\n",
    "        return self.calcula_difusa(kd, l, n) + self.calcula_especular(ks, r, v, alfa)\n",
    "    \n",
    "    def calcula_cor(self, difusa, especular, eye, ponto, normal, n, direcao):\n",
    "        return np.clip(self.calcula_ambiente(difusa) +\n",
    "            self.calcula_difusa(difusa, normal, direcao) + self.calcula_especular(especular, eye, ponto, normal, n), 0, 1)"
   ]
  },
  {
   "cell_type": "code",
   "execution_count": 91,
   "metadata": {},
   "outputs": [],
   "source": [
    "class Scene:\n",
    "    def __init__(self, camera, objects, lights, ambiente, background):\n",
    "        self.camera = camera\n",
    "        self.objects = objects\n",
    "        self.lights = lights\n",
    "        self.ambiente = ambiente\n",
    "        self.background = background\n",
    "        self.iteracoes = 3\n",
    "        \n",
    "    def nearest_intersected_object(self, ray_origin, ray_direction):\n",
    "        distances = [obj.intercepta(ray_origin, ray_direction) for obj in self.objects]\n",
    "        nearest_object = None\n",
    "        min_distance = np.inf\n",
    "        for index, distance in enumerate(distances):\n",
    "            if distance and distance < min_distance:\n",
    "                min_distance = distance\n",
    "                nearest_object = self.objects[index]\n",
    "        return nearest_object, min_distance\n",
    "\n",
    "    def ray_trace(self, origin, direction, iteration=0):\n",
    "        # check for intersections\n",
    "        nearest_object, min_distance = self.nearest_intersected_object(origin, direction)\n",
    "        if nearest_object is None:\n",
    "            return self.background\n",
    "\n",
    "        # compute intersection point between ray and nearest object\n",
    "        intersection = origin + min_distance * direction\n",
    "        \n",
    "        normal_to_surface = nearest_object.normal(intersection)\n",
    "        shifted_point = intersection + 1e-5 * normal_to_surface\n",
    "        \n",
    "        normal = normalize(nearest_object.normal(intersection))\n",
    "        material = nearest_object.material\n",
    "        cor = novo(0.0, 0.0, 0.0)\n",
    "        cor += self.ambiente.calcula_ambiente(material.ambiente)\n",
    "        for light in self.lights:\n",
    "            intersection_to_light = normalize(light.posicao - shifted_point)\n",
    "            _, min_distance = self.nearest_intersected_object(shifted_point, intersection_to_light)\n",
    "            intersection_to_light_distance = np.linalg.norm(light.posicao - intersection)\n",
    "            is_shadowed = min_distance < intersection_to_light_distance\n",
    "            \n",
    "            if not is_shadowed:\n",
    "                kd = material.difusa\n",
    "                if material.tem_textura:\n",
    "                    u, v = nearest_object.mapear(intersection)\n",
    "                    kd = material.mapeia_textura(u, v)\n",
    "                l = normalize(light.posicao - intersection)\n",
    "                n = normal\n",
    "                r = normalize(2 * np.dot(l, n) * n - l)\n",
    "                v = normalize(self.camera.origem() - intersection)\n",
    "                cor += light.calcula_difusa_especular(kd, l, n, material.especular, r, v, material.brilho)\n",
    "                \n",
    "        if material.reflexao > 0 and iteration < self.iteracoes:\n",
    "            r = normalize(direction - 2 * np.dot(direction, normal) * normal)\n",
    "            cor = material.reflexao * self.ray_trace(shifted_point, r, iteration + 1)\n",
    "            \n",
    "        return np.clip(cor, 0, 1)\n",
    "    \n",
    "        # compute intersection point between ray and nearest object\n",
    "        intersection = origin + min_distance * direction\n",
    "        \n",
    "        normal_to_surface = nearest_object.normal(intersection)\n",
    "        shifted_point = intersection + 1e-5 * normal_to_surface\n",
    "        intersection_to_light = normalize(light['position'] - shifted_point)\n",
    "\n",
    "        _, min_distance = self.nearest_intersected_object(shifted_point, intersection_to_light)\n",
    "        intersection_to_light_distance = np.linalg.norm(light['position'] - intersection)\n",
    "        #print(normal_to_surface)\n",
    "        is_shadowed = min_distance < intersection_to_light_distance\n",
    "        \n",
    "        # RGB\n",
    "        illumination = np.zeros((3))\n",
    "\n",
    "        if is_shadowed:\n",
    "            #print(\"sombra\")\n",
    "            return illumination\n",
    "\n",
    "        # ambiant\n",
    "        illumination += nearest_object.ambient * light['ambient']\n",
    "\n",
    "        # diffuse\n",
    "        illumination += nearest_object.diffuse * light['diffuse'] * np.dot(intersection_to_light, normal_to_surface)\n",
    "\n",
    "        # specular\n",
    "        intersection_to_camera = normalize(self.camera.origem() - intersection)\n",
    "        H = normalize(intersection_to_light + intersection_to_camera)\n",
    "        illumination += nearest_object.specular * light['specular'] * np.dot(normal_to_surface, H) ** (nearest_object.shininess / 4)\n",
    "        \n",
    "        return np.clip(illumination, 0, 1)\n",
    "\n",
    "    def render(self):\n",
    "        image = np.zeros((self.camera.w, self.camera.h, 3))\n",
    "        origin = self.camera.origem()\n",
    "        for y, x in itertools.product(range(self.camera.w), range(self.camera.h)):\n",
    "            direction = self.camera.direcao(x, y)\n",
    "            image[y, x] = self.ray_trace(origin, direction)\n",
    "        return image"
   ]
  },
  {
   "cell_type": "code",
   "execution_count": 92,
   "metadata": {},
   "outputs": [],
   "source": [
    "camera = Camera(230, 230, 90, 30)\n",
    "eye = novo(100, 40, 40)\n",
    "center = novo(0, 0, 0)\n",
    "up = novo(0, 1, 0)\n",
    "camera.posicao(eye, center, up)"
   ]
  },
  {
   "cell_type": "code",
   "execution_count": 93,
   "metadata": {},
   "outputs": [],
   "source": [
    "class Caixa(Poliedro_Convexo):\n",
    "    def __init__(self, pmin, pmax, material):\n",
    "        normais = [[-1, 0, 0], [1, 0, 0], [0, -1, 0], [0, 1, 0], [0, 0, -1], [0, 0, 1]]\n",
    "        normais = np.array(normais, dtype=np.float)\n",
    "        pontos = np.array([pmin, pmax, pmin, pmax, pmin, pmax], dtype=np.float)\n",
    "        super().__init__(pontos, normais, material)\n",
    "        \n",
    "    def mapear(self, ponto):\n",
    "        normal = self.normal(ponto)\n",
    "        pmin = self.pontos[0]\n",
    "        pmax = self.pontos[1]\n",
    "        u = None\n",
    "        v = None\n",
    "        if normal[0] != 0:\n",
    "            u = (ponto[1] - pmin[1]) / (pmax[1] - pmin[1])\n",
    "            v = (ponto[2] - pmin[2]) / (pmax[2] - pmin[2])\n",
    "            return u, v\n",
    "        if normal[1] != 0:\n",
    "            u = (ponto[0] - pmin[0]) / (pmax[0] - pmin[0])\n",
    "            v = (ponto[2] - pmin[2]) / (pmax[2] - pmin[2])\n",
    "            return u, v\n",
    "        u = (ponto[0] - pmin[0]) / (pmax[0] - pmin[0])\n",
    "        v = (ponto[1] - pmin[1]) / (pmax[1] - pmin[1])\n",
    "        return u, v"
   ]
  },
  {
   "cell_type": "code",
   "execution_count": 94,
   "metadata": {},
   "outputs": [],
   "source": [
    "def cria_caixa(pmin, pmax, material):\n",
    "    normais = [[-1, 0, 0], [1, 0, 0], [0, -1, 0], [0, 1, 0], [0, 0, -1], [0, 0, 1]]\n",
    "    normais = np.array(normais, dtype=np.float)\n",
    "    pontos = np.array([pmin, pmax, pmin, pmax, pmin, pmax], dtype=np.float)\n",
    "    return Poliedro_Convexo(pontos, normais, material)"
   ]
  },
  {
   "cell_type": "code",
   "execution_count": 95,
   "metadata": {},
   "outputs": [],
   "source": [
    "centro = novo(0, 20, 0)\n",
    "raio = 25\n",
    "difusa = novo(0, 0, 1)\n",
    "especular = novo(1, 1, 1)\n",
    "ambiente = novo(0.1, 0.1, 0.1)\n",
    "reflexao = 0\n",
    "brilho = 50\n",
    "material = Material(difusa, especular, ambiente, reflexao, brilho)\n",
    "esfera = Esfera(centro, raio, material)"
   ]
  },
  {
   "cell_type": "code",
   "execution_count": 96,
   "metadata": {},
   "outputs": [],
   "source": [
    "difusa = novo(0.7, 0.7, 0)\n",
    "especular = novo(1, 1, 1)\n",
    "ambiente = novo(0.1, 0.1, 0.1)\n",
    "reflexao = 0\n",
    "brilho = 50\n",
    "material = Material(difusa, especular, ambiente, reflexao, brilho)\n",
    "caixa1 = Caixa([-80, -50, -50], [50, -45, 50], material)\n",
    "reflexao = 0\n",
    "material = Material(difusa, especular, ambiente, reflexao, brilho)\n",
    "caixa2 = Caixa([-80, -50, -60], [50, 50, -50], material)"
   ]
  },
  {
   "cell_type": "code",
   "execution_count": 97,
   "metadata": {},
   "outputs": [],
   "source": [
    "objects = [esfera, caixa1, caixa2]"
   ]
  },
  {
   "cell_type": "code",
   "execution_count": 98,
   "metadata": {},
   "outputs": [],
   "source": [
    "posicao = novo(0, 0, 0)\n",
    "difusa = novo(1, 1, 1)\n",
    "especular = novo(1, 1, 1)\n",
    "ambiente = novo(1, 1, 1)\n",
    "luzAmbiente = Luz(posicao, difusa, especular, ambiente)\n",
    "posicao = novo(60, 120, 40)\n",
    "luz1 = Luz(posicao, difusa, especular, ambiente)\n",
    "posicao = novo(-10, 120, 40)\n",
    "luz1 = Luz(posicao, difusa, especular, ambiente)\n",
    "posicao = novo(120, 120, 40)\n",
    "luz2 = Luz(posicao, difusa, especular, ambiente)"
   ]
  },
  {
   "cell_type": "code",
   "execution_count": 99,
   "metadata": {},
   "outputs": [],
   "source": [
    "lights = [luz2]"
   ]
  },
  {
   "cell_type": "code",
   "execution_count": 100,
   "metadata": {},
   "outputs": [],
   "source": [
    "cor_de_fundo = novo(0.428, 0.428, 0.428)\n",
    "scene = Scene(camera, objects, lights, luzAmbiente, cor_de_fundo)"
   ]
  },
  {
   "cell_type": "code",
   "execution_count": 47,
   "metadata": {},
   "outputs": [
    {
     "data": {
      "image/png": "[encoded data removed]",
      "text/plain": [
       "<Figure size 720x720 with 1 Axes>"
      ]
     },
     "metadata": {
      "needs_background": "light"
     },
     "output_type": "display_data"
    }
   ],
   "source": [
    "image = scene.render()\n",
    "plt.figure(figsize=(10, 10))\n",
    "plt.imshow(image)\n",
    "plt.show()"
   ]
  },
  {
   "cell_type": "code",
   "execution_count": 101,
   "metadata": {},
   "outputs": [],
   "source": [
    "lights = [luz1]"
   ]
  },
  {
   "cell_type": "code",
   "execution_count": 102,
   "metadata": {},
   "outputs": [],
   "source": [
    "cor_de_fundo = novo(0.428, 0.428, 0.428)\n",
    "scene = Scene(camera, objects, lights, luzAmbiente, cor_de_fundo)"
   ]
  },
  {
   "cell_type": "code",
   "execution_count": 50,
   "metadata": {},
   "outputs": [
    {
     "ename": "KeyboardInterrupt",
     "evalue": "",
     "output_type": "error",
     "traceback": [
      "\u001b[1;31m---------------------------------------------------------------------------\u001b[0m",
      "\u001b[1;31mKeyboardInterrupt\u001b[0m                         Traceback (most recent call last)",
      "\u001b[1;32m<ipython-input-50-daf6f1ee44ba>\u001b[0m in \u001b[0;36m<module>\u001b[1;34m\u001b[0m\n\u001b[1;32m----> 1\u001b[1;33m \u001b[0mimage\u001b[0m \u001b[1;33m=\u001b[0m \u001b[0mscene\u001b[0m\u001b[1;33m.\u001b[0m\u001b[0mrender\u001b[0m\u001b[1;33m(\u001b[0m\u001b[1;33m)\u001b[0m\u001b[1;33m\u001b[0m\u001b[0m\n\u001b[0m\u001b[0;32m      2\u001b[0m \u001b[0mplt\u001b[0m\u001b[1;33m.\u001b[0m\u001b[0mfigure\u001b[0m\u001b[1;33m(\u001b[0m\u001b[0mfigsize\u001b[0m\u001b[1;33m=\u001b[0m\u001b[1;33m(\u001b[0m\u001b[1;36m10\u001b[0m\u001b[1;33m,\u001b[0m \u001b[1;36m10\u001b[0m\u001b[1;33m)\u001b[0m\u001b[1;33m)\u001b[0m\u001b[1;33m\u001b[0m\u001b[0m\n\u001b[0;32m      3\u001b[0m \u001b[0mplt\u001b[0m\u001b[1;33m.\u001b[0m\u001b[0mimshow\u001b[0m\u001b[1;33m(\u001b[0m\u001b[0mimage\u001b[0m\u001b[1;33m)\u001b[0m\u001b[1;33m\u001b[0m\u001b[0m\n\u001b[0;32m      4\u001b[0m \u001b[0mplt\u001b[0m\u001b[1;33m.\u001b[0m\u001b[0mshow\u001b[0m\u001b[1;33m(\u001b[0m\u001b[1;33m)\u001b[0m\u001b[1;33m\u001b[0m\u001b[0m\n",
      "\u001b[1;32m<ipython-input-10-1f98efc83849>\u001b[0m in \u001b[0;36mrender\u001b[1;34m(self)\u001b[0m\n\u001b[0;32m     94\u001b[0m         \u001b[1;32mfor\u001b[0m \u001b[0my\u001b[0m\u001b[1;33m,\u001b[0m \u001b[0mx\u001b[0m \u001b[1;32min\u001b[0m \u001b[0mitertools\u001b[0m\u001b[1;33m.\u001b[0m\u001b[0mproduct\u001b[0m\u001b[1;33m(\u001b[0m\u001b[0mrange\u001b[0m\u001b[1;33m(\u001b[0m\u001b[0mself\u001b[0m\u001b[1;33m.\u001b[0m\u001b[0mcamera\u001b[0m\u001b[1;33m.\u001b[0m\u001b[0mw\u001b[0m\u001b[1;33m)\u001b[0m\u001b[1;33m,\u001b[0m \u001b[0mrange\u001b[0m\u001b[1;33m(\u001b[0m\u001b[0mself\u001b[0m\u001b[1;33m.\u001b[0m\u001b[0mcamera\u001b[0m\u001b[1;33m.\u001b[0m\u001b[0mh\u001b[0m\u001b[1;33m)\u001b[0m\u001b[1;33m)\u001b[0m\u001b[1;33m:\u001b[0m\u001b[1;33m\u001b[0m\u001b[0m\n\u001b[0;32m     95\u001b[0m             \u001b[0mdirection\u001b[0m \u001b[1;33m=\u001b[0m \u001b[0mself\u001b[0m\u001b[1;33m.\u001b[0m\u001b[0mcamera\u001b[0m\u001b[1;33m.\u001b[0m\u001b[0mdirecao\u001b[0m\u001b[1;33m(\u001b[0m\u001b[0mx\u001b[0m\u001b[1;33m,\u001b[0m \u001b[0my\u001b[0m\u001b[1;33m)\u001b[0m\u001b[1;33m\u001b[0m\u001b[0m\n\u001b[1;32m---> 96\u001b[1;33m             \u001b[0mimage\u001b[0m\u001b[1;33m[\u001b[0m\u001b[0my\u001b[0m\u001b[1;33m,\u001b[0m \u001b[0mx\u001b[0m\u001b[1;33m]\u001b[0m \u001b[1;33m=\u001b[0m \u001b[0mself\u001b[0m\u001b[1;33m.\u001b[0m\u001b[0mray_trace\u001b[0m\u001b[1;33m(\u001b[0m\u001b[0morigin\u001b[0m\u001b[1;33m,\u001b[0m \u001b[0mdirection\u001b[0m\u001b[1;33m)\u001b[0m\u001b[1;33m\u001b[0m\u001b[0m\n\u001b[0m\u001b[0;32m     97\u001b[0m         \u001b[1;32mreturn\u001b[0m \u001b[0mimage\u001b[0m\u001b[1;33m\u001b[0m\u001b[0m\n",
      "\u001b[1;32m<ipython-input-10-1f98efc83849>\u001b[0m in \u001b[0;36mray_trace\u001b[1;34m(self, origin, direction, iteration)\u001b[0m\n\u001b[0;32m     27\u001b[0m         \u001b[0mintersection\u001b[0m \u001b[1;33m=\u001b[0m \u001b[0morigin\u001b[0m \u001b[1;33m+\u001b[0m \u001b[0mmin_distance\u001b[0m \u001b[1;33m*\u001b[0m \u001b[0mdirection\u001b[0m\u001b[1;33m\u001b[0m\u001b[0m\n\u001b[0;32m     28\u001b[0m \u001b[1;33m\u001b[0m\u001b[0m\n\u001b[1;32m---> 29\u001b[1;33m         \u001b[0mnormal_to_surface\u001b[0m \u001b[1;33m=\u001b[0m \u001b[0mnearest_object\u001b[0m\u001b[1;33m.\u001b[0m\u001b[0mnormal\u001b[0m\u001b[1;33m(\u001b[0m\u001b[0mintersection\u001b[0m\u001b[1;33m)\u001b[0m\u001b[1;33m\u001b[0m\u001b[0m\n\u001b[0m\u001b[0;32m     30\u001b[0m         \u001b[0mshifted_point\u001b[0m \u001b[1;33m=\u001b[0m \u001b[0mintersection\u001b[0m \u001b[1;33m+\u001b[0m \u001b[1;36m1e-5\u001b[0m \u001b[1;33m*\u001b[0m \u001b[0mnormal_to_surface\u001b[0m\u001b[1;33m\u001b[0m\u001b[0m\n\u001b[0;32m     31\u001b[0m \u001b[1;33m\u001b[0m\u001b[0m\n",
      "\u001b[1;32m<ipython-input-7-88303e594a62>\u001b[0m in \u001b[0;36mnormal\u001b[1;34m(self, ponto)\u001b[0m\n\u001b[0;32m     44\u001b[0m         \u001b[0mnormal\u001b[0m \u001b[1;33m=\u001b[0m \u001b[1;32mNone\u001b[0m\u001b[1;33m\u001b[0m\u001b[0m\n\u001b[0;32m     45\u001b[0m         \u001b[1;32mfor\u001b[0m \u001b[0mi\u001b[0m \u001b[1;32min\u001b[0m \u001b[0mrange\u001b[0m\u001b[1;33m(\u001b[0m\u001b[0mself\u001b[0m\u001b[1;33m.\u001b[0m\u001b[0mplanos\u001b[0m\u001b[1;33m)\u001b[0m\u001b[1;33m:\u001b[0m\u001b[1;33m\u001b[0m\u001b[0m\n\u001b[1;32m---> 46\u001b[1;33m             \u001b[1;32mif\u001b[0m \u001b[1;33m(\u001b[0m\u001b[0mabs\u001b[0m\u001b[1;33m(\u001b[0m\u001b[0mnp\u001b[0m\u001b[1;33m.\u001b[0m\u001b[0mdot\u001b[0m\u001b[1;33m(\u001b[0m\u001b[0mponto\u001b[0m \u001b[1;33m-\u001b[0m \u001b[0mself\u001b[0m\u001b[1;33m.\u001b[0m\u001b[0mpontos\u001b[0m\u001b[1;33m[\u001b[0m\u001b[0mi\u001b[0m\u001b[1;33m]\u001b[0m\u001b[1;33m,\u001b[0m \u001b[0mself\u001b[0m\u001b[1;33m.\u001b[0m\u001b[0mnormais\u001b[0m\u001b[1;33m[\u001b[0m\u001b[0mi\u001b[0m\u001b[1;33m]\u001b[0m\u001b[1;33m)\u001b[0m\u001b[1;33m)\u001b[0m \u001b[1;33m<\u001b[0m \u001b[0mtolerancia\u001b[0m\u001b[1;33m)\u001b[0m\u001b[1;33m:\u001b[0m\u001b[1;33m\u001b[0m\u001b[0m\n\u001b[0m\u001b[0;32m     47\u001b[0m                 \u001b[1;32mreturn\u001b[0m \u001b[0mself\u001b[0m\u001b[1;33m.\u001b[0m\u001b[0mnormais\u001b[0m\u001b[1;33m[\u001b[0m\u001b[0mi\u001b[0m\u001b[1;33m]\u001b[0m\u001b[1;33m\u001b[0m\u001b[0m\n\u001b[0;32m     48\u001b[0m         \u001b[1;32mreturn\u001b[0m \u001b[0mnormal\u001b[0m\u001b[1;33m\u001b[0m\u001b[0m\n",
      "\u001b[1;32m<__array_function__ internals>\u001b[0m in \u001b[0;36mdot\u001b[1;34m(*args, **kwargs)\u001b[0m\n",
      "\u001b[1;31mKeyboardInterrupt\u001b[0m: "
     ]
    }
   ],
   "source": [
    "image = scene.render()\n",
    "plt.figure(figsize=(10, 10))\n",
    "plt.imshow(image)\n",
    "plt.show()"
   ]
  },
  {
   "cell_type": "code",
   "execution_count": 103,
   "metadata": {},
   "outputs": [],
   "source": [
    "lights = [luz1, luz2]"
   ]
  },
  {
   "cell_type": "code",
   "execution_count": 104,
   "metadata": {},
   "outputs": [],
   "source": [
    "cor_de_fundo = novo(0.428, 0.428, 0.428)\n",
    "scene = Scene(camera, objects, lights, luzAmbiente, cor_de_fundo)"
   ]
  },
  {
   "cell_type": "code",
   "execution_count": null,
   "metadata": {},
   "outputs": [],
   "source": [
    "image = scene.render()\n",
    "plt.figure(figsize=(10, 10))\n",
    "plt.imshow(image)\n",
    "plt.show()"
   ]
  },
  {
   "cell_type": "code",
   "execution_count": 105,
   "metadata": {},
   "outputs": [],
   "source": [
    "centro = novo(0, 20, 0)\n",
    "raio = 25\n",
    "difusa = novo(0, 0, 1)\n",
    "especular = novo(1, 1, 1)\n",
    "ambiente = novo(0.1, 0.1, 0.1)\n",
    "reflexao = 0\n",
    "brilho = 50\n",
    "textura = \"textura.jpg\"\n",
    "material = Material(difusa, especular, ambiente, reflexao, brilho, textura)\n",
    "esfera = Esfera(centro, raio, material)"
   ]
  },
  {
   "cell_type": "code",
   "execution_count": 106,
   "metadata": {},
   "outputs": [],
   "source": [
    "camera = Camera(500, 500, 90, 30)\n",
    "eye = novo(100, 40, 40)\n",
    "center = novo(0, 0, 0)\n",
    "up = novo(0, 1, 0)\n",
    "camera.posicao(eye, center, up)"
   ]
  },
  {
   "cell_type": "code",
   "execution_count": 107,
   "metadata": {},
   "outputs": [],
   "source": [
    "objects = [esfera, caixa1, caixa2]"
   ]
  },
  {
   "cell_type": "code",
   "execution_count": 108,
   "metadata": {},
   "outputs": [],
   "source": [
    "cor_de_fundo = novo(0.428, 0.428, 0.428)\n",
    "scene = Scene(camera, objects, lights, luzAmbiente, cor_de_fundo)"
   ]
  },
  {
   "cell_type": "code",
   "execution_count": null,
   "metadata": {},
   "outputs": [],
   "source": [
    "image = scene.render()\n",
    "plt.figure(figsize=(10, 10))\n",
    "plt.imshow(image)\n",
    "plt.show()"
   ]
  },
  {
   "cell_type": "code",
   "execution_count": 109,
   "metadata": {},
   "outputs": [],
   "source": [
    "centro = novo(0, 20, 0)\n",
    "raio = 25\n",
    "difusa = novo(0, 0, 1)\n",
    "especular = novo(1, 1, 1)\n",
    "ambiente = novo(0.1, 0.1, 0.1)\n",
    "reflexao = 0\n",
    "brilho = 50\n",
    "material = Material(difusa, especular, ambiente, reflexao, brilho, textura)\n",
    "esfera = Esfera(centro, raio, material)"
   ]
  },
  {
   "cell_type": "code",
   "execution_count": 110,
   "metadata": {},
   "outputs": [],
   "source": [
    "camera = Camera(230, 230, 90, 30)\n",
    "eye = novo(100, 40, 40)\n",
    "center = novo(0, 0, 0)\n",
    "up = novo(0, 1, 0)\n",
    "camera.posicao(eye, center, up)"
   ]
  },
  {
   "cell_type": "code",
   "execution_count": 121,
   "metadata": {},
   "outputs": [],
   "source": [
    "objects = [esfera, caixa1, caixa2]"
   ]
  },
  {
   "cell_type": "code",
   "execution_count": 120,
   "metadata": {},
   "outputs": [],
   "source": [
    "difusa = novo(0.7, 0.7, 0)\n",
    "especular = novo(1, 1, 1)\n",
    "ambiente = novo(0.1, 0.1, 0.1)\n",
    "reflexao = 0\n",
    "brilho = 50\n",
    "material = Material(difusa, especular, ambiente, reflexao, brilho)\n",
    "caixa1 = Caixa([-80, -50, -50], [50, -45, 50], material)\n",
    "reflexao = 0\n",
    "difusa = novo(0, 0, 1)\n",
    "especular = novo(1, 1, 1)\n",
    "ambiente = novo(0.1, 0.1, 0.1)\n",
    "reflexao = 0\n",
    "brilho = 50\n",
    "textura = \"textura.jpg\"\n",
    "material = Material(difusa, especular, ambiente, reflexao, brilho, textura)\n",
    "caixa2 = Caixa([-80, -50, -60], [50, 50, -50], material)"
   ]
  },
  {
   "cell_type": "code",
   "execution_count": 122,
   "metadata": {},
   "outputs": [],
   "source": [
    "cor_de_fundo = novo(0.428, 0.428, 0.428)\n",
    "scene = Scene(camera, objects, lights, luzAmbiente, cor_de_fundo)"
   ]
  },
  {
   "cell_type": "code",
   "execution_count": 123,
   "metadata": {},
   "outputs": [
    {
     "data": {
      "image/png": "[encoded data removed]",
      "text/plain": [
       "<Figure size 720x720 with 1 Axes>"
      ]
     },
     "metadata": {
      "needs_background": "light"
     },
     "output_type": "display_data"
    }
   ],
   "source": [
    "image = scene.render()\n",
    "plt.figure(figsize=(10, 10))\n",
    "plt.imshow(image)\n",
    "plt.show()"
   ]
  },
  {
   "cell_type": "code",
   "execution_count": null,
   "metadata": {},
   "outputs": [],
   "source": [
    "cor_de_fundo = novo(0.428, 0.428, 0.428)\n",
    "scene = Scene(camera, objects, lights, luzAmbiente, cor_de_fundo)"
   ]
  },
  {
   "cell_type": "code",
   "execution_count": null,
   "metadata": {},
   "outputs": [],
   "source": [
    "class Scene2:\n",
    "    def __init__(self, camera, objects, lights, ambiente, background):\n",
    "        self.camera = camera\n",
    "        self.objects = objects\n",
    "        self.lights = lights\n",
    "        self.ambiente = ambiente\n",
    "        self.background = background\n",
    "        self.iteracoes = 3\n",
    "        \n",
    "    def nearest_intersected_object(self, ray_origin, ray_direction):\n",
    "        distances = [obj.intercepta(ray_origin, ray_direction) for obj in self.objects]\n",
    "        nearest_object = None\n",
    "        min_distance = np.inf\n",
    "        for index, distance in enumerate(distances):\n",
    "            if distance and distance < min_distance:\n",
    "                min_distance = distance\n",
    "                nearest_object = self.objects[index]\n",
    "        return nearest_object, min_distance\n",
    "\n",
    "    def ray_trace(self, origin, direction, iteration=0):\n",
    "        # check for intersections\n",
    "        nearest_object, min_distance = self.nearest_intersected_object(origin, direction)\n",
    "        if nearest_object is None:\n",
    "            return self.background\n",
    "\n",
    "        # compute intersection point between ray and nearest object\n",
    "        intersection = origin + min_distance * direction\n",
    "        \n",
    "        normal_to_surface = nearest_object.normal(intersection)\n",
    "        shifted_point = intersection + 1e-5 * normal_to_surface\n",
    "        \n",
    "        normal = normalize(nearest_object.normal(intersection))\n",
    "        material = nearest_object.material\n",
    "        cor = novo(0.0, 0.0, 0.0)\n",
    "        cor += self.ambiente.calcula_ambiente(material.ambiente)\n",
    "        for light in self.lights:\n",
    "            intersection_to_light = normalize(light.posicao - shifted_point)\n",
    "            _, min_distance = self.nearest_intersected_object(shifted_point, intersection_to_light)\n",
    "            intersection_to_light_distance = np.linalg.norm(light.posicao - intersection)\n",
    "            is_shadowed = min_distance < intersection_to_light_distance\n",
    "            \n",
    "            if not is_shadowed:\n",
    "                #return material.difusa\n",
    "                l = normalize(light.posicao - intersection)\n",
    "                n = normal\n",
    "                r = normalize(2 * np.dot(l, n) * n - l)\n",
    "                v = normalize(self.camera.origem() - intersection)\n",
    "                cor += light.calcula_difusa_especular(material.difusa, l, n, material.especular, r, v, material.brilho)\n",
    "                \n",
    "        if material.reflexao > 0 and iteration < self.iteracoes:\n",
    "            r = normalize(direction - 2 * np.dot(direction, normal) * normal)\n",
    "            cor = material.reflexao * self.ray_trace(shifted_point, r, iteration + 1)\n",
    "            \n",
    "        return np.clip(cor, 0, 1)\n",
    "    \n",
    "        # compute intersection point between ray and nearest object\n",
    "        intersection = origin + min_distance * direction\n",
    "        \n",
    "        normal_to_surface = nearest_object.normal(intersection)\n",
    "        shifted_point = intersection + 1e-5 * normal_to_surface\n",
    "        intersection_to_light = normalize(light['position'] - shifted_point)\n",
    "\n",
    "        _, min_distance = self.nearest_intersected_object(shifted_point, intersection_to_light)\n",
    "        intersection_to_light_distance = np.linalg.norm(light['position'] - intersection)\n",
    "        #print(normal_to_surface)\n",
    "        is_shadowed = min_distance < intersection_to_light_distance\n",
    "        \n",
    "        # RGB\n",
    "        illumination = np.zeros((3))\n",
    "\n",
    "        if is_shadowed:\n",
    "            #print(\"sombra\")\n",
    "            return illumination\n",
    "\n",
    "        # ambiant\n",
    "        illumination += nearest_object.ambient * light['ambient']\n",
    "\n",
    "        # diffuse\n",
    "        illumination += nearest_object.diffuse * light['diffuse'] * np.dot(intersection_to_light, normal_to_surface)\n",
    "\n",
    "        # specular\n",
    "        intersection_to_camera = normalize(self.camera.origem() - intersection)\n",
    "        H = normalize(intersection_to_light + intersection_to_camera)\n",
    "        illumination += nearest_object.specular * light['specular'] * np.dot(normal_to_surface, H) ** (nearest_object.shininess / 4)\n",
    "        \n",
    "        return np.clip(illumination, 0, 1)\n",
    "\n",
    "    def render(self):\n",
    "        image = np.zeros((self.camera.w, self.camera.h, 3))\n",
    "        origin = self.camera.origem()\n",
    "        for y, x in itertools.product(range(self.camera.w), range(self.camera.h)):\n",
    "            direction = self.camera.direcao(x, y)\n",
    "            image[y, x] = self.ray_trace(origin, direction)\n",
    "        return image\n"
   ]
  },
  {
   "cell_type": "code",
   "execution_count": null,
   "metadata": {},
   "outputs": [],
   "source": [
    "centro = novo(0, 20, 0)\n",
    "raio = 25\n",
    "difusa = novo(0, 0, 1)\n",
    "especular = novo(1, 1, 1)\n",
    "ambiente = novo(0.1, 0.1, 0.1)\n",
    "reflexao = 0\n",
    "brilho = 50\n",
    "material = Material(difusa, especular, ambiente, reflexao, brilho)\n",
    "esfera = Esfera(centro, raio, material)"
   ]
  },
  {
   "cell_type": "code",
   "execution_count": null,
   "metadata": {},
   "outputs": [],
   "source": [
    "difusa = novo(0.7, 0.7, 0)\n",
    "especular = novo(1, 1, 1)\n",
    "ambiente = novo(0.1, 0.1, 0.1)\n",
    "reflexao = 0\n",
    "brilho = 50\n",
    "material = Material(difusa, especular, ambiente, reflexao, brilho)\n",
    "caixa1 = cria_caixa([-80, -50, -50], [50, -45, 50], material)\n",
    "reflexao = 0.8\n",
    "material = Material(difusa, especular, ambiente, reflexao, brilho)\n",
    "caixa2 = cria_caixa([-80, -50, -60], [50, 50, -50], material)"
   ]
  },
  {
   "cell_type": "code",
   "execution_count": null,
   "metadata": {},
   "outputs": [],
   "source": [
    "objects = [esfera, caixa1, caixa2]"
   ]
  },
  {
   "cell_type": "code",
   "execution_count": null,
   "metadata": {},
   "outputs": [],
   "source": [
    "posicao = novo(0, 0, 0)\n",
    "difusa = novo(1, 1, 1)\n",
    "especular = novo(1, 1, 1)\n",
    "ambiente = novo(1, 1, 1)\n",
    "luzAmbiente = Luz(posicao, difusa, especular, ambiente)\n",
    "posicao = novo(60, 120, 40)\n",
    "luz1 = Luz(posicao, difusa, especular, ambiente)\n",
    "posicao = novo(-10, 120, 40)\n",
    "luz1 = Luz(posicao, difusa, especular, ambiente)\n",
    "posicao = novo(120, 120, 40)\n",
    "luz2 = Luz(posicao, difusa, especular, ambiente)"
   ]
  },
  {
   "cell_type": "code",
   "execution_count": null,
   "metadata": {},
   "outputs": [],
   "source": [
    "lights = [luz2]"
   ]
  },
  {
   "cell_type": "code",
   "execution_count": null,
   "metadata": {},
   "outputs": [],
   "source": [
    "cor_de_fundo = novo(0.428, 0.428, 0.428)\n",
    "scene = Scene2(camera, objects, lights, luzAmbiente, cor_de_fundo)"
   ]
  },
  {
   "cell_type": "code",
   "execution_count": null,
   "metadata": {},
   "outputs": [],
   "source": [
    "image = scene.render()\n",
    "plt.figure(figsize=(10, 10))\n",
    "plt.imshow(image)\n",
    "plt.show()"
   ]
  },
  {
   "cell_type": "code",
   "execution_count": null,
   "metadata": {},
   "outputs": [],
   "source": [
    "class Scene3:\n",
    "    def __init__(self, camera, objects, lights, ambiente, background):\n",
    "        self.camera = camera\n",
    "        self.objects = objects\n",
    "        self.lights = lights\n",
    "        self.ambiente = ambiente\n",
    "        self.background = background\n",
    "        self.iteracoes = 3\n",
    "        \n",
    "    def nearest_intersected_object(self, ray_origin, ray_direction):\n",
    "        distances = [obj.intercepta(ray_origin, ray_direction) for obj in self.objects]\n",
    "        nearest_object = None\n",
    "        min_distance = np.inf\n",
    "        for index, distance in enumerate(distances):\n",
    "            if distance and distance < min_distance:\n",
    "                min_distance = distance\n",
    "                nearest_object = self.objects[index]\n",
    "        return nearest_object, min_distance\n",
    "\n",
    "    def ray_trace(self, origin, direction, iteration=0):\n",
    "        reflection = 1\n",
    "        cor = np.zeros((3))\n",
    "        for it in range(self.iteracoes):\n",
    "            # check for intersections\n",
    "            nearest_object, min_distance = self.nearest_intersected_object(origin, direction)\n",
    "            if nearest_object is None:\n",
    "                return self.background\n",
    "\n",
    "            # compute intersection point between ray and nearest object\n",
    "            intersection = origin + min_distance * direction\n",
    "\n",
    "            normal_to_surface = nearest_object.normal(intersection)\n",
    "            shifted_point = intersection + 1e-5 * normal_to_surface\n",
    "\n",
    "            normal = normalize(nearest_object.normal(intersection))\n",
    "            material = nearest_object.material\n",
    "            iluminacao = self.ambiente.calcula_ambiente(material.ambiente)\n",
    "            for light in self.lights:\n",
    "                intersection_to_light = normalize(light.posicao - shifted_point)\n",
    "                _, min_distance = self.nearest_intersected_object(shifted_point, intersection_to_light)\n",
    "                intersection_to_light_distance = np.linalg.norm(light.posicao - intersection)\n",
    "                is_shadowed = min_distance < intersection_to_light_distance\n",
    "\n",
    "                if not is_shadowed:\n",
    "                    #return material.difusa\n",
    "                    l = normalize(light.posicao - intersection)\n",
    "                    n = normal\n",
    "                    r = normalize(2 * np.dot(l, n) * n - l)\n",
    "                    v = normalize(self.camera.origem() - intersection)\n",
    "                    iluminacao += light.calcula_difusa_especular(material.difusa, l, n, material.especular, r, v, material.brilho)\n",
    "            \n",
    "            cor += reflection * iluminacao\n",
    "            reflection *= material.reflexao\n",
    "            \n",
    "            origin = shifted_point\n",
    "            direction = direction - 2 * np.dot(direction, normal) * normal\n",
    "            direction = normalize(direction)\n",
    "        return np.clip(cor, 0, 1)\n",
    "    \n",
    "        # compute intersection point between ray and nearest object\n",
    "        intersection = origin + min_distance * direction\n",
    "        \n",
    "        normal_to_surface = nearest_object.normal(intersection)\n",
    "        shifted_point = intersection + 1e-5 * normal_to_surface\n",
    "        intersection_to_light = normalize(light['position'] - shifted_point)\n",
    "\n",
    "        _, min_distance = self.nearest_intersected_object(shifted_point, intersection_to_light)\n",
    "        intersection_to_light_distance = np.linalg.norm(light['position'] - intersection)\n",
    "        #print(normal_to_surface)\n",
    "        is_shadowed = min_distance < intersection_to_light_distance\n",
    "        \n",
    "        # RGB\n",
    "        illumination = np.zeros((3))\n",
    "\n",
    "        if is_shadowed:\n",
    "            #print(\"sombra\")\n",
    "            return illumination\n",
    "\n",
    "        # ambiant\n",
    "        illumination += nearest_object.ambient * light['ambient']\n",
    "\n",
    "        # diffuse\n",
    "        illumination += nearest_object.diffuse * light['diffuse'] * np.dot(intersection_to_light, normal_to_surface)\n",
    "\n",
    "        # specular\n",
    "        intersection_to_camera = normalize(self.camera.origem() - intersection)\n",
    "        H = normalize(intersection_to_light + intersection_to_camera)\n",
    "        illumination += nearest_object.specular * light['specular'] * np.dot(normal_to_surface, H) ** (nearest_object.shininess / 4)\n",
    "        \n",
    "        return np.clip(illumination, 0, 1)\n",
    "\n",
    "    def render(self):\n",
    "        image = np.zeros((self.camera.w, self.camera.h, 3))\n",
    "        origin = self.camera.origem()\n",
    "        for y, x in itertools.product(range(self.camera.w), range(self.camera.h)):\n",
    "            direction = self.camera.direcao(x, y)\n",
    "            image[y, x] = self.ray_trace(origin, direction)\n",
    "        return image"
   ]
  },
  {
   "cell_type": "code",
   "execution_count": null,
   "metadata": {},
   "outputs": [],
   "source": [
    "cor_de_fundo = novo(0.428, 0.428, 0.428)\n",
    "scene = Scene3(camera, objects, lights, luzAmbiente, cor_de_fundo)"
   ]
  },
  {
   "cell_type": "code",
   "execution_count": null,
   "metadata": {},
   "outputs": [],
   "source": [
    "difusa = novo(0.7, 0.7, 0)\n",
    "especular = novo(1, 1, 1)\n",
    "ambiente = novo(0.1, 0.1, 0.1)\n",
    "reflexao = 0\n",
    "brilho = 50\n",
    "material = Material(difusa, especular, ambiente, reflexao, brilho)\n",
    "caixa1 = cria_caixa([-80, -50, -50], [50, -45, 50], material)\n",
    "reflexao = 0.5\n",
    "material = Material(difusa, especular, ambiente, reflexao, brilho)\n",
    "caixa2 = cria_caixa([-80, -50, -60], [50, 50, -50], material)"
   ]
  },
  {
   "cell_type": "code",
   "execution_count": null,
   "metadata": {},
   "outputs": [],
   "source": [
    "objects = [esfera, caixa1, caixa2]"
   ]
  },
  {
   "cell_type": "code",
   "execution_count": null,
   "metadata": {},
   "outputs": [],
   "source": [
    "image = scene.render()\n",
    "plt.figure(figsize=(10, 10))\n",
    "plt.imshow(image)\n",
    "plt.show()"
   ]
  },
  {
   "cell_type": "code",
   "execution_count": null,
   "metadata": {},
   "outputs": [],
   "source": [
    "class Scene4:\n",
    "    def __init__(self, camera, objects, lights, ambiente, background):\n",
    "        self.camera = camera\n",
    "        self.objects = objects\n",
    "        self.lights = lights\n",
    "        self.ambiente = ambiente\n",
    "        self.background = background\n",
    "        self.iteracoes = 3\n",
    "        \n",
    "    def nearest_intersected_object(self, ray_origin, ray_direction):\n",
    "        distances = [obj.intercepta(ray_origin, ray_direction) for obj in self.objects]\n",
    "        nearest_object = None\n",
    "        min_distance = np.inf\n",
    "        for index, distance in enumerate(distances):\n",
    "            if distance and distance < min_distance:\n",
    "                min_distance = distance\n",
    "                nearest_object = self.objects[index]\n",
    "        return nearest_object, min_distance\n",
    "\n",
    "    def ray_trace(self, origin, direction, iteration=0):\n",
    "        # check for intersections\n",
    "        nearest_object, min_distance = self.nearest_intersected_object(origin, direction)\n",
    "        if nearest_object is None:\n",
    "            return self.background\n",
    "\n",
    "        # compute intersection point between ray and nearest object\n",
    "        intersection = origin + min_distance * direction\n",
    "        for light in self.lights:\n",
    "            light_direction = normalize(luz.posicao - intersection)\n",
    "            \n",
    "\n",
    "            if not is_shadowed:\n",
    "                #return material.difusa\n",
    "                l = normalize(light.posicao - intersection)\n",
    "                n = normal\n",
    "                r = normalize(2 * np.dot(l, n) * n - l)\n",
    "                v = normalize(self.camera.origem() - intersection)\n",
    "                cor += light.calcula_difusa_especular(material.difusa, l, n, material.especular, r, v, material.brilho)\n",
    "        return np.clip(cor, 0, 1)\n",
    "    \n",
    "        # compute intersection point between ray and nearest object\n",
    "        intersection = origin + min_distance * direction\n",
    "        \n",
    "        normal_to_surface = nearest_object.normal(intersection)\n",
    "        shifted_point = intersection + 1e-5 * normal_to_surface\n",
    "        intersection_to_light = normalize(light['position'] - shifted_point)\n",
    "\n",
    "        _, min_distance = self.nearest_intersected_object(shifted_point, intersection_to_light)\n",
    "        intersection_to_light_distance = np.linalg.norm(light['position'] - intersection)\n",
    "        #print(normal_to_surface)\n",
    "        is_shadowed = min_distance < intersection_to_light_distance\n",
    "        \n",
    "        # RGB\n",
    "        illumination = np.zeros((3))\n",
    "\n",
    "        if is_shadowed:\n",
    "            #print(\"sombra\")\n",
    "            return illumination\n",
    "\n",
    "        # ambiant\n",
    "        illumination += nearest_object.ambient * light['ambient']\n",
    "\n",
    "        # diffuse\n",
    "        illumination += nearest_object.diffuse * light['diffuse'] * np.dot(intersection_to_light, normal_to_surface)\n",
    "\n",
    "        # specular\n",
    "        intersection_to_camera = normalize(self.camera.origem() - intersection)\n",
    "        H = normalize(intersection_to_light + intersection_to_camera)\n",
    "        illumination += nearest_object.specular * light['specular'] * np.dot(normal_to_surface, H) ** (nearest_object.shininess / 4)\n",
    "        \n",
    "        return np.clip(illumination, 0, 1)\n",
    "\n",
    "    def render(self):\n",
    "        image = np.zeros((self.camera.w, self.camera.h, 3))\n",
    "        origin = self.camera.origem()\n",
    "        for y, x in itertools.product(range(self.camera.w), range(self.camera.h)):\n",
    "            direction = self.camera.direcao(x, y)\n",
    "            image[y, x] = self.ray_trace(origin, direction)\n",
    "        return image"
   ]
  }
 ],
 "metadata": {
  "kernelspec": {
   "display_name": "Python 3",
   "language": "python",
   "name": "python3"
  },
  "language_info": {
   "codemirror_mode": {
    "name": "ipython",
    "version": 3
   },
   "file_extension": ".py",
   "mimetype": "text/x-python",
   "name": "python",
   "nbconvert_exporter": "python",
   "pygments_lexer": "ipython3",
   "version": "3.6.5"
  },
  "toc": {
   "base_numbering": 1,
   "nav_menu": {},
   "number_sections": true,
   "sideBar": true,
   "skip_h1_title": false,
   "title_cell": "Table of Contents",
   "title_sidebar": "Contents",
   "toc_cell": false,
   "toc_position": {},
   "toc_section_display": true,
   "toc_window_display": false
  },
  "varInspector": {
   "cols": {
    "lenName": 16,
    "lenType": 16,
    "lenVar": 40
   },
   "kernels_config": {
    "python": {
     "delete_cmd_postfix": "",
     "delete_cmd_prefix": "del ",
     "library": "var_list.py",
     "varRefreshCmd": "print(var_dic_list())"
    },
    "r": {
     "delete_cmd_postfix": ") ",
     "delete_cmd_prefix": "rm(",
     "library": "var_list.r",
     "varRefreshCmd": "cat(var_dic_list()) "
    }
   },
   "types_to_exclude": [
    "module",
    "function",
    "builtin_function_or_method",
    "instance",
    "_Feature"
   ],
   "window_display": false
  }
 },
 "nbformat": 4,
 "nbformat_minor": 4
}
